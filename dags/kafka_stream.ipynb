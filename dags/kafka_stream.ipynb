{
 "cells": [
  {
   "cell_type": "code",
   "execution_count": 14,
   "metadata": {},
   "outputs": [],
   "source": [
    "from datetime import datetime\n",
    "from airflow import DAG\n",
    "from airflow.operators.python import PythonOperator\n",
    "import pandas as pd"
   ]
  },
  {
   "cell_type": "code",
   "execution_count": 15,
   "metadata": {},
   "outputs": [],
   "source": [
    "default_args = {\n",
    "    'owner': 'thanhbinh',\n",
    "    'start_date': datetime(2024, 11, 10),\n",
    "}"
   ]
  },
  {
   "cell_type": "code",
   "execution_count": 28,
   "metadata": {},
   "outputs": [],
   "source": [
    "class CSVStreamerPandas:\n",
    "    def __init__(self, file_path):\n",
    "        self.file_path = file_path\n",
    "        self.data = pd.read_csv(file_path)  # Load the CSV into a DataFrame\n",
    "        self.current_index = 0  # Initialize the current row index\n",
    "\n",
    "    def get_next_row(self):\n",
    "        # Check if there are rows left to return\n",
    "        if self.current_index < len(self.data):\n",
    "            row = self.data.iloc[self.current_index].to_dict()  # Get the current row\n",
    "            self.current_index += 1  # Move to the next row\n",
    "            return row\n",
    "        else:\n",
    "            # Return None if no more rows are available\n",
    "            return None\n",
    "\n",
    "# Usage example\n",
    "rating_path = 'genome/new_streaming_ratings.csv'\n",
    "review_path = 'genome/new_streaming_reviews.csv'\n",
    "rating_streamer = CSVStreamerPandas(rating_path)\n",
    "review_streamer = CSVStreamerPandas(review_path)"
   ]
  },
  {
   "cell_type": "code",
   "execution_count": 26,
   "metadata": {},
   "outputs": [],
   "source": [
    "def get_rating_data(streamer):\n",
    "    new_data = rating_streamer.get_next_row()\n",
    "\n",
    "    print(new_data)"
   ]
  },
  {
   "cell_type": "code",
   "execution_count": 24,
   "metadata": {},
   "outputs": [],
   "source": [
    "def get_review_data(streamer):\n",
    "    new_data = review_streamer.get_next_row()\n",
    "\n",
    "    print(new_data)"
   ]
  },
  {
   "cell_type": "code",
   "execution_count": 30,
   "metadata": {},
   "outputs": [
    {
     "name": "stdout",
     "output_type": "stream",
     "text": [
      "{'item_id': 10, 'user_id': 997206, 'rating': 4}\n"
     ]
    }
   ],
   "source": [
    "get_rating_data(rating_streamer)"
   ]
  },
  {
   "cell_type": "code",
   "execution_count": 32,
   "metadata": {},
   "outputs": [
    {
     "name": "stdout",
     "output_type": "stream",
     "text": [
      "{'item_id': 95541, 'txt': 'Banging Away..; Thomas Edison and William K.L. Dickson\\'s \"Blacksmith Scene,\" was the first film shown publicly in 1893. This short is a brief look at 3 workers as they go about their daily ritual. Great piece of work for its time. In the early days of cinema, directors typically recorded everyday events such as the arrival of ships or workers leaving a factory. These short films were called \"actualities.\" Later, with the advent of better equipment (which could record for longer), directors began to introduce more complicated narratives into film. 10* (10* Rating System)'}\n"
     ]
    }
   ],
   "source": [
    "get_review_data(review_streamer)"
   ]
  },
  {
   "cell_type": "code",
   "execution_count": null,
   "metadata": {},
   "outputs": [],
   "source": []
  }
 ],
 "metadata": {
  "kernelspec": {
   "display_name": "Python 3",
   "language": "python",
   "name": "python3"
  },
  "language_info": {
   "codemirror_mode": {
    "name": "ipython",
    "version": 3
   },
   "file_extension": ".py",
   "mimetype": "text/x-python",
   "name": "python",
   "nbconvert_exporter": "python",
   "pygments_lexer": "ipython3",
   "version": "3.11.8"
  }
 },
 "nbformat": 4,
 "nbformat_minor": 2
}
